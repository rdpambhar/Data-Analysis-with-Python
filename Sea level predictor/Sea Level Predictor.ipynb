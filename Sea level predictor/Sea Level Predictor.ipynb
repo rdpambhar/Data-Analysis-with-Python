{
 "cells": [
  {
   "cell_type": "markdown",
   "id": "2ed85c23",
   "metadata": {},
   "source": [
    "<a href=\"https://colab.research.google.com/github/rdpambhar/Data_Analysis_with_Python/blob/main/Data%20Analysis%20with%20python/Sea%20level%20predictor/Sea%20Level%20Predictor.ipynb\" target=\"_parent\"><img src=\"https://colab.research.google.com/assets/colab-badge.svg\" alt=\"Open In Colab\"/></a>"
   ]
  },
  {
   "cell_type": "markdown",
   "id": "a0092d40",
   "metadata": {},
   "source": [
    "# Sea Level Predictor"
   ]
  },
  {
   "cell_type": "code",
   "execution_count": 1,
   "id": "c3686918",
   "metadata": {},
   "outputs": [],
   "source": [
    "import pandas as pd\n",
    "import matplotlib.pyplot as plt\n",
    "from scipy.stats import linregress"
   ]
  },
  {
   "cell_type": "code",
   "execution_count": 2,
   "id": "568ee9d7",
   "metadata": {},
   "outputs": [
    {
     "ename": "IndentationError",
     "evalue": "expected an indented block (Temp/ipykernel_18148/414690993.py, line 1)",
     "output_type": "error",
     "traceback": [
      "\u001b[1;36m  File \u001b[1;32m\"C:\\Users\\rop65\\AppData\\Local\\Temp/ipykernel_18148/414690993.py\"\u001b[1;36m, line \u001b[1;32m1\u001b[0m\n\u001b[1;33m    def draw_plot():\u001b[0m\n\u001b[1;37m                    ^\u001b[0m\n\u001b[1;31mIndentationError\u001b[0m\u001b[1;31m:\u001b[0m expected an indented block\n"
     ]
    }
   ],
   "source": [
    "def draw_plot():"
   ]
  },
  {
   "cell_type": "markdown",
   "id": "54a60cee",
   "metadata": {},
   "source": [
    "### Read data from file"
   ]
  },
  {
   "cell_type": "code",
   "execution_count": null,
   "id": "bc9b42e4",
   "metadata": {},
   "outputs": [],
   "source": [
    "df = pd.read_csv('epa-sea-level.csv')"
   ]
  },
  {
   "cell_type": "markdown",
   "id": "dd9925a2",
   "metadata": {},
   "source": [
    "### Create scatter plot"
   ]
  },
  {
   "cell_type": "code",
   "execution_count": null,
   "id": "cbc98bf0",
   "metadata": {},
   "outputs": [],
   "source": [
    "df.plot.scatter(x='Year', y=\"CSIRO Adjusted Sea Level\", figsize=(25, 10))\n",
    "sr1 = pd.Series([int(i) for i in range(1880, 2050)])"
   ]
  },
  {
   "cell_type": "markdown",
   "id": "6f302bc4",
   "metadata": {},
   "source": [
    "### Create first line of best fit"
   ]
  },
  {
   "cell_type": "code",
   "execution_count": null,
   "id": "16013aba",
   "metadata": {},
   "outputs": [],
   "source": [
    "slope, intercept, r_value, p_value, std_err  = linregress(df['Year'], df[\"CSIRO Adjusted Sea Level\"])\n",
    "plt.plot(sr1, intercept + slope*sr1, 'r', label='best fit line from 1880 to 2050')"
   ]
  },
  {
   "cell_type": "markdown",
   "id": "517f56dc",
   "metadata": {},
   "source": [
    "### Create second line of best fit"
   ]
  },
  {
   "cell_type": "code",
   "execution_count": null,
   "id": "a2bfb837",
   "metadata": {},
   "outputs": [],
   "source": [
    "recent = df[df['Year'] >= 2000]\n",
    "slope, intercept, r_value, p_value, std_err  = linregress(recent['Year'], recent[\"CSIRO Adjusted Sea Level\"])\n",
    "sr2 = pd.Series([int(i) for i in range(2000, 2050)])\n",
    "recent.append(sr2, ignore_index=True)\n",
    "plt.plot(sr2, intercept + slope*sr2, 'r', label='new best fit line after year 2000', color=\"pink\")\n",
    "plt.title(\"Rise in Sea Level\")\n",
    "plt.xlabel(\"Year\")\n",
    "plt.ylabel(\"Sea Level (inches)\")\n",
    "plt.legend()\n",
    "plt.show()"
   ]
  },
  {
   "cell_type": "markdown",
   "id": "2be2b434",
   "metadata": {},
   "source": [
    "### Save plot and return data for testing"
   ]
  },
  {
   "cell_type": "code",
   "execution_count": null,
   "id": "c37ebe86",
   "metadata": {},
   "outputs": [],
   "source": [
    "plt.savefig('sea_level_plot.png')\n",
    "return plt.gca()"
   ]
  }
 ],
 "metadata": {
  "kernelspec": {
   "display_name": "Python 3 (ipykernel)",
   "language": "python",
   "name": "python3"
  },
  "language_info": {
   "codemirror_mode": {
    "name": "ipython",
    "version": 3
   },
   "file_extension": ".py",
   "mimetype": "text/x-python",
   "name": "python",
   "nbconvert_exporter": "python",
   "pygments_lexer": "ipython3",
   "version": "3.9.7"
  }
 },
 "nbformat": 4,
 "nbformat_minor": 5
}
