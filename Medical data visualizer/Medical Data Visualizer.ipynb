{
 "cells": [
  {
   "cell_type": "markdown",
   "id": "0105cd99",
   "metadata": {},
   "source": [
    "<a href=\"https://colab.research.google.com/github/rdpambhar/Data_Analysis_with_Python/blob/main/Data%20Analysis%20with%20python/Medical%20data%20visualizer/Medical%20Data%20Visualizer.ipynb\" target=\"_parent\"><img src=\"https://colab.research.google.com/assets/colab-badge.svg\" alt=\"Open In Colab\"/></a>"
   ]
  },
  {
   "cell_type": "markdown",
   "id": "cc3d1af0",
   "metadata": {},
   "source": [
    "# Medical Data Visualizer"
   ]
  },
  {
   "cell_type": "code",
   "execution_count": 1,
   "id": "25ad9359",
   "metadata": {},
   "outputs": [],
   "source": [
    "import pandas as pd\n",
    "import seaborn as sns\n",
    "import matplotlib.pyplot as plt\n",
    "import numpy as np"
   ]
  },
  {
   "cell_type": "markdown",
   "id": "bda090f1",
   "metadata": {},
   "source": [
    "### Import data"
   ]
  },
  {
   "cell_type": "code",
   "execution_count": 2,
   "id": "26222feb",
   "metadata": {},
   "outputs": [],
   "source": [
    "df = pd.read_csv('medical_examination.csv')"
   ]
  },
  {
   "cell_type": "markdown",
   "id": "81d718b9",
   "metadata": {},
   "source": [
    "### Add 'overweight' column"
   ]
  },
  {
   "cell_type": "code",
   "execution_count": 3,
   "id": "25e377d8",
   "metadata": {},
   "outputs": [],
   "source": [
    "BMI = ((df.weight) / ((df.height / 100)**2))\n",
    "overweight = (BMI > 25).astype(int)\n",
    "df['overweight'] = overweight"
   ]
  },
  {
   "cell_type": "markdown",
   "id": "e648383d",
   "metadata": {},
   "source": [
    "### Normalize data by making 0 always good and 1 always bad. If the value of 'cholesterol' or 'gluc' is 1, make the value 0. If the value is more than 1, make the value 1."
   ]
  },
  {
   "cell_type": "code",
   "execution_count": 4,
   "id": "0c17cedf",
   "metadata": {},
   "outputs": [],
   "source": [
    "df.cholesterol = (df.cholesterol > 1).astype(int)\n",
    "df.gluc = (df.gluc > 1).astype(int)"
   ]
  },
  {
   "cell_type": "markdown",
   "id": "2d0357f0",
   "metadata": {},
   "source": [
    "### Draw Categorical Plot"
   ]
  },
  {
   "cell_type": "code",
   "execution_count": 5,
   "id": "1b16bf65",
   "metadata": {},
   "outputs": [
    {
     "ename": "IndentationError",
     "evalue": "expected an indented block (Temp/ipykernel_16964/390466744.py, line 1)",
     "output_type": "error",
     "traceback": [
      "\u001b[1;36m  File \u001b[1;32m\"C:\\Users\\rop65\\AppData\\Local\\Temp/ipykernel_16964/390466744.py\"\u001b[1;36m, line \u001b[1;32m1\u001b[0m\n\u001b[1;33m    def draw_cat_plot():\u001b[0m\n\u001b[1;37m                        ^\u001b[0m\n\u001b[1;31mIndentationError\u001b[0m\u001b[1;31m:\u001b[0m expected an indented block\n"
     ]
    }
   ],
   "source": [
    "def draw_cat_plot():"
   ]
  },
  {
   "cell_type": "markdown",
   "id": "76aba32d",
   "metadata": {},
   "source": [
    "### Create DataFrame for cat plot using `pd.melt` using just the values from 'cholesterol', 'gluc', 'smoke', 'alco', 'active', and 'overweight'."
   ]
  },
  {
   "cell_type": "code",
   "execution_count": null,
   "id": "9cb8000a",
   "metadata": {},
   "outputs": [],
   "source": [
    "df_cat = df.melt(id_vars=['cardio'],value_vars=sorted(['cholesterol', 'gluc', 'smoke', 'alco', 'active', 'overweight']))"
   ]
  },
  {
   "cell_type": "markdown",
   "id": "9664f526",
   "metadata": {},
   "source": [
    "### Group and reformat the data to split it by 'cardio'. Show the counts of each feature. You will have to rename one of the columns for the catplot to work correctly."
   ]
  },
  {
   "cell_type": "code",
   "execution_count": null,
   "id": "d260628e",
   "metadata": {},
   "outputs": [],
   "source": [
    "df_cat"
   ]
  },
  {
   "cell_type": "markdown",
   "id": "6c3c692c",
   "metadata": {},
   "source": [
    "### Draw the catplot with 'sns.catplot()'"
   ]
  },
  {
   "cell_type": "code",
   "execution_count": null,
   "id": "d262647b",
   "metadata": {},
   "outputs": [],
   "source": [
    "catplot = sns.catplot(data=df_cat, kind='count', x='variable', hue='value',col=\"cardio\")"
   ]
  },
  {
   "cell_type": "code",
   "execution_count": null,
   "id": "fa1c69a1",
   "metadata": {},
   "outputs": [],
   "source": [
    "fig.savefig('catplot.png')\n",
    "return fig"
   ]
  },
  {
   "cell_type": "code",
   "execution_count": null,
   "id": "3655b58f",
   "metadata": {},
   "outputs": [],
   "source": [
    "plt.figure(figsize=(50,50))\n",
    "plt.savefig('catplot.pdf', orientation='landscape',dpi=300)"
   ]
  },
  {
   "cell_type": "markdown",
   "id": "666d7f4a",
   "metadata": {},
   "source": [
    "### Draw Heat Map"
   ]
  },
  {
   "cell_type": "code",
   "execution_count": null,
   "id": "0dd4b2a1",
   "metadata": {},
   "outputs": [],
   "source": [
    "def draw_heat_map():"
   ]
  },
  {
   "cell_type": "code",
   "execution_count": null,
   "id": "9e4f778f",
   "metadata": {},
   "outputs": [],
   "source": [
    "df_heat = df[(df['ap_lo']<=df['ap_hi'])&(df['height']>=df['height'].quantile(0.025)) & (df['height']<=df['height'].quantile(0.975))&(df['weight']>=df['weight'].quantile(0.025)) & (df['weight']<=df['weight'].quantile(0.975))]"
   ]
  },
  {
   "cell_type": "markdown",
   "id": "05c9a8d7",
   "metadata": {},
   "source": [
    " ### Calculate the correlation matrix"
   ]
  },
  {
   "cell_type": "code",
   "execution_count": null,
   "id": "04dbf798",
   "metadata": {},
   "outputs": [],
   "source": [
    "corr_matrix = df_heat.corr()"
   ]
  },
  {
   "cell_type": "markdown",
   "id": "027825d4",
   "metadata": {},
   "source": [
    "### Generate a mask for the upper triangle"
   ]
  },
  {
   "cell_type": "code",
   "execution_count": null,
   "id": "4579773a",
   "metadata": {},
   "outputs": [],
   "source": [
    "mask = np.triu(corr_matrix)"
   ]
  },
  {
   "cell_type": "markdown",
   "id": "2d1f2694",
   "metadata": {},
   "source": [
    "### Set up the matplotlib figure"
   ]
  },
  {
   "cell_type": "code",
   "execution_count": null,
   "id": "c9006be8",
   "metadata": {},
   "outputs": [],
   "source": []
  },
  {
   "cell_type": "code",
   "execution_count": null,
   "id": "f114fe02",
   "metadata": {},
   "outputs": [],
   "source": [
    "heatmap = sns.heatmap(corr_matrix, annot=True, fmt='.1f', linewidths=1, mask=mask, vmax=.8, center=0.09, square=True, cbar_kws={'shrink':0.5})"
   ]
  },
  {
   "cell_type": "code",
   "execution_count": null,
   "id": "a6a7c13b",
   "metadata": {},
   "outputs": [],
   "source": [
    "plt.figure(figsize=(50,50))\n",
    "plt.savefig('heatmap.pdf', orientation='landscape',dpi=300)"
   ]
  },
  {
   "cell_type": "code",
   "execution_count": null,
   "id": "bd7024ca",
   "metadata": {},
   "outputs": [],
   "source": [
    "fig.savefig('heatmap.png')\n",
    "return fig"
   ]
  }
 ],
 "metadata": {
  "kernelspec": {
   "display_name": "Python 3 (ipykernel)",
   "language": "python",
   "name": "python3"
  },
  "language_info": {
   "codemirror_mode": {
    "name": "ipython",
    "version": 3
   },
   "file_extension": ".py",
   "mimetype": "text/x-python",
   "name": "python",
   "nbconvert_exporter": "python",
   "pygments_lexer": "ipython3",
   "version": "3.9.7"
  }
 },
 "nbformat": 4,
 "nbformat_minor": 5
}
