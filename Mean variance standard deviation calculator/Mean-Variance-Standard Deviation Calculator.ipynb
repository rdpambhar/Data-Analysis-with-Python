{
 "cells": [
  {
   "cell_type": "markdown",
   "id": "8e11c0fb",
   "metadata": {},
   "source": [
    "<a href=\"https://colab.research.google.com/github/rdpambhar/Data_Analysis_with_Python/blob/main/Data%20Analysis%20with%20python/Mean%20variance%20standard%20deviation%20calculator/Mean-Variance-Standard%20Deviation%20Calculator.ipynb\" target=\"_parent\"><img src=\"https://colab.research.google.com/assets/colab-badge.svg\" alt=\"Open In Colab\"/></a>"
   ]
  },
  {
   "cell_type": "code",
   "execution_count": 5,
   "id": "3bdd91e0",
   "metadata": {},
   "outputs": [
    {
     "name": "stdout",
     "output_type": "stream",
     "text": [
      "None\n"
     ]
    }
   ],
   "source": [
    "import numpy as np\n",
    "from pprint import pprint\n",
    "\n",
    "\n",
    "def calculate(list):\n",
    "     if len(list) != 9:\n",
    "        raise ValueError(\"list must contain nine numbers.\")\n",
    "        A = np.reshape(list(3, 3))\n",
    "        calculations = {\n",
    "        \"mean\" : [A.mean(axis=0),A.mean(axis=1), A.mean()],\n",
    "        \"variance\" : [A.var(axis=0),A.var(axis=1), A.var()],\n",
    "        \"standrad_deviation\" : [A.std(axis=0),A.std(axis=1), A.std()],\n",
    "        \"max\" : [A.max(axis=0),A.max(axis=1), A.max()],\n",
    "        \"min\" : [A.min(axis=0),A.min(axis=1), A.min()],\n",
    "        \"sum\" : [A.sum(axis=0),A.sum(axis=1), A.sum()],\n",
    "     }\n",
    "\n",
    "\n",
    "\n",
    "        return calculations\n",
    "print(calculate([i for i in range(0, 9)]))"
   ]
  }
 ],
 "metadata": {
  "kernelspec": {
   "display_name": "Python 3 (ipykernel)",
   "language": "python",
   "name": "python3"
  },
  "language_info": {
   "codemirror_mode": {
    "name": "ipython",
    "version": 3
   },
   "file_extension": ".py",
   "mimetype": "text/x-python",
   "name": "python",
   "nbconvert_exporter": "python",
   "pygments_lexer": "ipython3",
   "version": "3.9.7"
  }
 },
 "nbformat": 4,
 "nbformat_minor": 5
}
