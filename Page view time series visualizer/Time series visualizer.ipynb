{
 "cells": [
  {
   "cell_type": "markdown",
   "id": "03fbe4ad",
   "metadata": {},
   "source": [
    "<a href=\"https://colab.research.google.com/github/rdpambhar/Data_Analysis_with_Python/blob/main/Data%20Analysis%20with%20python/Page%20view%20time%20series%20visualizer/Time%20series%20visualizer.ipynb\" target=\"_parent\"><img src=\"https://colab.research.google.com/assets/colab-badge.svg\" alt=\"Open In Colab\"/></a>"
   ]
  },
  {
   "cell_type": "markdown",
   "id": "4925ea73",
   "metadata": {},
   "source": [
    "# Time series visualizer"
   ]
  },
  {
   "cell_type": "code",
   "execution_count": 1,
   "id": "7faee995",
   "metadata": {},
   "outputs": [],
   "source": [
    "import matplotlib.pyplot as plt\n",
    "import pandas as pd\n",
    "import seaborn as sns\n",
    "from pandas.plotting import register_matplotlib_converters\n",
    "register_matplotlib_converters()"
   ]
  },
  {
   "cell_type": "markdown",
   "id": "5e29513c",
   "metadata": {},
   "source": [
    "### Import data (Make sure to parse dates. Consider setting index column to 'date'.)"
   ]
  },
  {
   "cell_type": "code",
   "execution_count": 2,
   "id": "51ba2ee2",
   "metadata": {},
   "outputs": [],
   "source": [
    "df = pd.read_csv('fcc-forum-pageviews.csv', parse_dates = [\"date\"], index_col = \"date\")"
   ]
  },
  {
   "cell_type": "markdown",
   "id": "0551c1b1",
   "metadata": {},
   "source": [
    "### Clean data"
   ]
  },
  {
   "cell_type": "code",
   "execution_count": 3,
   "id": "c7c036f1",
   "metadata": {},
   "outputs": [],
   "source": [
    "df = df[(df[\"value\"] >= df[\"value\"].quantile(0.025)) & (df[\"value\"] <= df[\"value\"].quantile(0.975))]"
   ]
  },
  {
   "cell_type": "code",
   "execution_count": 4,
   "id": "79cf3264",
   "metadata": {},
   "outputs": [
    {
     "ename": "IndentationError",
     "evalue": "expected an indented block (Temp/ipykernel_13988/2491946406.py, line 1)",
     "output_type": "error",
     "traceback": [
      "\u001b[1;36m  File \u001b[1;32m\"C:\\Users\\rop65\\AppData\\Local\\Temp/ipykernel_13988/2491946406.py\"\u001b[1;36m, line \u001b[1;32m1\u001b[0m\n\u001b[1;33m    def draw_line_plot():\u001b[0m\n\u001b[1;37m                         ^\u001b[0m\n\u001b[1;31mIndentationError\u001b[0m\u001b[1;31m:\u001b[0m expected an indented block\n"
     ]
    }
   ],
   "source": [
    "def draw_line_plot():"
   ]
  },
  {
   "cell_type": "markdown",
   "id": "f031125a",
   "metadata": {},
   "source": [
    "### Draw line plot"
   ]
  },
  {
   "cell_type": "code",
   "execution_count": null,
   "id": "23ae0aa0",
   "metadata": {},
   "outputs": [],
   "source": [
    "fig, ax = plt.subplots(figsize = (15,5))\n",
    "ax.plot(df.index, df['value'], color='red', linewidth=1)\n",
    "ax.set_title(\"Daily freeCodeCamp Forum Page Views 5/2016-12/2019\")\n",
    "ax.set_xlabel(\"Date\")\n",
    "ax.set_ylabel(\"Page Views\")"
   ]
  },
  {
   "cell_type": "markdown",
   "id": "f4cf0fc3",
   "metadata": {},
   "source": [
    "### Save image and return fig"
   ]
  },
  {
   "cell_type": "code",
   "execution_count": null,
   "id": "04b8307d",
   "metadata": {},
   "outputs": [],
   "source": [
    "fig.savefig('line_plot.png')\n",
    "return fig"
   ]
  },
  {
   "cell_type": "code",
   "execution_count": null,
   "id": "44eae572",
   "metadata": {},
   "outputs": [],
   "source": [
    "def draw_bar_plot():"
   ]
  },
  {
   "cell_type": "markdown",
   "id": "dfe4ea5b",
   "metadata": {},
   "source": [
    "### Copy and modify data for monthly bar plot"
   ]
  },
  {
   "cell_type": "code",
   "execution_count": null,
   "id": "7e0d34fb",
   "metadata": {},
   "outputs": [],
   "source": [
    " df_bar = N= df.copy()\n",
    "df[\"month\"] = df.index.month\n",
    "df[\"year\"] = df.index.year\n",
    "df_bar = df.groupby([\"year\", \"month\"])[\"value\"].mean()\n",
    "df_bar = df_bar.unstack()"
   ]
  },
  {
   "cell_type": "markdown",
   "id": "b24188dc",
   "metadata": {},
   "source": [
    "### Draw bar plot"
   ]
  },
  {
   "cell_type": "code",
   "execution_count": null,
   "id": "4c759ca4",
   "metadata": {},
   "outputs": [],
   "source": [
    "fig = df_bar.plot(kind =\"bar\", legend = True, figsize = (15,10)).figure\n",
    "plt.xlabel(\"Years\", fontsize= 10)\n",
    "plt.ylabel(\"Average Page Views\", fontsize= 10)\n",
    "#plt.xticks(rotation=30)\n",
    "plt.xticks(fontsize = 10)\n",
    "plt.yticks(fontsize = 10)\n",
    "plt.legend(fontsize = 10, title=\"Months\", labels = ['January', 'February', 'March', 'April', 'May', 'June', 'July', 'August', 'September', 'October', 'November', 'December'])"
   ]
  },
  {
   "cell_type": "markdown",
   "id": "9e7c01b7",
   "metadata": {},
   "source": [
    "### Save image and return fig"
   ]
  },
  {
   "cell_type": "code",
   "execution_count": null,
   "id": "c4780558",
   "metadata": {},
   "outputs": [],
   "source": [
    "fig.savefig('bar_plot.png')\n",
    "return fig"
   ]
  },
  {
   "cell_type": "code",
   "execution_count": null,
   "id": "c924ea94",
   "metadata": {},
   "outputs": [],
   "source": [
    "def draw_box_plot():"
   ]
  },
  {
   "cell_type": "markdown",
   "id": "8f74ad01",
   "metadata": {},
   "source": [
    "### Prepare data for box plots"
   ]
  },
  {
   "cell_type": "code",
   "execution_count": null,
   "id": "29974e73",
   "metadata": {},
   "outputs": [],
   "source": [
    "df_box = df.copy()\n",
    "df_box.reset_index(inplace=True)\n",
    "df_box['year'] = [d.year for d in df_box.date]\n",
    "df_box['month'] = [d.strftime('%b') for d in df_box.date]"
   ]
  },
  {
   "cell_type": "markdown",
   "id": "36faa0bc",
   "metadata": {},
   "source": [
    "### Draw box plots (using Seaborn)"
   ]
  },
  {
   "cell_type": "code",
   "execution_count": null,
   "id": "1956b535",
   "metadata": {},
   "outputs": [],
   "source": [
    "fig, (ax1, ax2) = plt.subplots(1, 2)\n",
    "fig.set_figwidth(20)\n",
    "fig.set_figheight(10)\n",
    "\n",
    "ax1 = sns.boxplot(x=df_box[\"year\"], y=df_box[\"value\"], ax=ax1)\n",
    "ax1.set_title(\"Year-wise Box Plot (Trend)\") \n",
    "ax1.set_xlabel('Year')\n",
    "ax1.set_ylabel('Page Views')\n",
    "\n",
    "ax2 = sns.boxplot(x=df_box[\"month\"], y=df_box[\"value\"], ax=ax2)\n",
    "ax2.set_title(\"Month-wise Box Plot (Seasonality)\")\n",
    "ax2.set_xlabel('Month')\n",
    "ax2.set_ylabel('Page Views')"
   ]
  },
  {
   "cell_type": "markdown",
   "id": "6b8d3e39",
   "metadata": {},
   "source": [
    "### Save image and return fig"
   ]
  },
  {
   "cell_type": "code",
   "execution_count": null,
   "id": "e6e242be",
   "metadata": {},
   "outputs": [],
   "source": [
    "fig.savefig('box_plot.png')\n",
    "return fig"
   ]
  }
 ],
 "metadata": {
  "kernelspec": {
   "display_name": "Python 3 (ipykernel)",
   "language": "python",
   "name": "python3"
  },
  "language_info": {
   "codemirror_mode": {
    "name": "ipython",
    "version": 3
   },
   "file_extension": ".py",
   "mimetype": "text/x-python",
   "name": "python",
   "nbconvert_exporter": "python",
   "pygments_lexer": "ipython3",
   "version": "3.9.7"
  }
 },
 "nbformat": 4,
 "nbformat_minor": 5
}
