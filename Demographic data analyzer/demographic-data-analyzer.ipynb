{
 "cells": [
  {
   "cell_type": "markdown",
   "id": "25c44a4b",
   "metadata": {},
   "source": [
    "<a href=\"https://colab.research.google.com/github/rdpambhar/Data_Analysis_with_Python/blob/main/Data%20Analysis%20with%20python/Demographic%20data%20analyzer/demographic-data-analyzer.ipynb\" target=\"_parent\"><img src=\"https://colab.research.google.com/assets/colab-badge.svg\" alt=\"Open In Colab\"/></a>"
   ]
  },
  {
   "cell_type": "markdown",
   "id": "d14d46b7",
   "metadata": {},
   "source": [
    "# demographic-data-analyzer"
   ]
  },
  {
   "cell_type": "code",
   "execution_count": 1,
   "id": "7af59bc4",
   "metadata": {},
   "outputs": [],
   "source": [
    "import pandas as pd"
   ]
  },
  {
   "cell_type": "code",
   "execution_count": 2,
   "id": "9adbcde7",
   "metadata": {
    "scrolled": true
   },
   "outputs": [
    {
     "ename": "IndentationError",
     "evalue": "expected an indented block (Temp/ipykernel_17132/3560338611.py, line 1)",
     "output_type": "error",
     "traceback": [
      "\u001b[1;36m  File \u001b[1;32m\"C:\\Users\\rop65\\AppData\\Local\\Temp/ipykernel_17132/3560338611.py\"\u001b[1;36m, line \u001b[1;32m1\u001b[0m\n\u001b[1;33m    def calculate_demographic_data(print_data=True):\u001b[0m\n\u001b[1;37m                                                    ^\u001b[0m\n\u001b[1;31mIndentationError\u001b[0m\u001b[1;31m:\u001b[0m expected an indented block\n"
     ]
    }
   ],
   "source": [
    "def calculate_demographic_data(print_data=True):"
   ]
  },
  {
   "cell_type": "markdown",
   "id": "03d8a256",
   "metadata": {},
   "source": [
    "### Read data from file"
   ]
  },
  {
   "cell_type": "code",
   "execution_count": null,
   "id": "306e5dae",
   "metadata": {},
   "outputs": [],
   "source": [
    "df = pd.read_csv('adult.data.csv')"
   ]
  },
  {
   "cell_type": "markdown",
   "id": "ee230806",
   "metadata": {},
   "source": [
    "### How many of each race are represented in this dataset? This should be a Pandas series with race names as the index labels."
   ]
  },
  {
   "cell_type": "code",
   "execution_count": null,
   "id": "e839dc94",
   "metadata": {},
   "outputs": [],
   "source": [
    "race_count = df.count()"
   ]
  },
  {
   "cell_type": "markdown",
   "id": "a6d3fa07",
   "metadata": {},
   "source": [
    "### What is the average age of men?"
   ]
  },
  {
   "cell_type": "code",
   "execution_count": null,
   "id": "3fe59644",
   "metadata": {},
   "outputs": [],
   "source": [
    "average_age_men = df['age'].mean()\n",
    "No_of_data = df.shape[0]"
   ]
  },
  {
   "cell_type": "markdown",
   "id": "dd3869fb",
   "metadata": {},
   "source": [
    "### What is the percentage of people who have a Bachelor's degree?"
   ]
  },
  {
   "cell_type": "code",
   "execution_count": null,
   "id": "45ce9a2e",
   "metadata": {},
   "outputs": [],
   "source": [
    "percentage_bachelors = (df.loc[df['education'] == 'Bachelors'].shape[0] / No_of_data) * 100"
   ]
  },
  {
   "cell_type": "markdown",
   "id": "0eb32fcf",
   "metadata": {},
   "source": [
    "### What percentage of people with advanced education (`Bachelors`, `Masters`, or `Doctorate`) make more than 50K?"
   ]
  },
  {
   "cell_type": "code",
   "execution_count": null,
   "id": "edf0fab1",
   "metadata": {},
   "outputs": [],
   "source": [
    "(df.loc[(df['education'] == 'Bachelors') | (df['education'] == 'Masters') | (df['education'] == 'Doctorate')].shape[0] / No_of_data) * 100"
   ]
  },
  {
   "cell_type": "markdown",
   "id": "9b1d295a",
   "metadata": {},
   "source": [
    "### What percentage of people without advanced education make more than 50K?"
   ]
  },
  {
   "cell_type": "code",
   "execution_count": null,
   "id": "f69ba111",
   "metadata": {},
   "outputs": [],
   "source": [
    "higher_education = df['education'].max()\n",
    "lower_education = df['education'].min()"
   ]
  },
  {
   "cell_type": "markdown",
   "id": "094a97f9",
   "metadata": {},
   "source": [
    "### percentage with salary >50K"
   ]
  },
  {
   "cell_type": "code",
   "execution_count": null,
   "id": "a7211f69",
   "metadata": {},
   "outputs": [],
   "source": [
    "higher_education_rich = (df.loc[df['salary'] == '>50K'].shape[0] / No_of_data) * 100\n",
    "lower_education_rich = (df.loc[df['salary'] == '<50K'].shape[0] / No_of_data) * 100"
   ]
  },
  {
   "cell_type": "markdown",
   "id": "526e7c8a",
   "metadata": {},
   "source": [
    "### What is the minimum number of hours a person works per week (hours-per-week feature)?"
   ]
  },
  {
   "cell_type": "code",
   "execution_count": null,
   "id": "ceed95e6",
   "metadata": {},
   "outputs": [],
   "source": [
    "min_work_hours = df['hours-per-week'].min()"
   ]
  },
  {
   "cell_type": "markdown",
   "id": "f86ee021",
   "metadata": {},
   "source": [
    "### What percentage of the people who work the minimum number of hours per week have a salary of >50K?"
   ]
  },
  {
   "cell_type": "code",
   "execution_count": null,
   "id": "2880c30a",
   "metadata": {},
   "outputs": [],
   "source": [
    "num_min_workers = df.loc[df['hours-per-week'].min()].count()"
   ]
  },
  {
   "cell_type": "code",
   "execution_count": null,
   "id": "5bd337d0",
   "metadata": {},
   "outputs": [],
   "source": [
    "rich_percentage = (df.loc[(df['salary'] == '>50K') & (df['hours-per-week'].min())].count() / num_min_workers) * 100"
   ]
  },
  {
   "cell_type": "markdown",
   "id": "b1bfc0aa",
   "metadata": {},
   "source": [
    "### What country has the highest percentage of people that earn >50K?"
   ]
  },
  {
   "cell_type": "code",
   "execution_count": null,
   "id": "1e6e38fd",
   "metadata": {},
   "outputs": [],
   "source": [
    "highest_earning_country = df.loc[(df['salary'] == '>50K') == (df['salary'] == '>50K').max(), 'native-country'].value_counts()\n",
    "highest_earning_counties = df.loc[(df['salary'] == '>50K') & (df['native-country'])].shape[0]\n",
    "highest_earning_country_percentage =(df.loc[(df['salary'] == '>50K') == (df['salary'] == '>50K').max(), 'native-country'].value_counts() / highest_earning_counties) * 100"
   ]
  },
  {
   "cell_type": "markdown",
   "id": "516b33b4",
   "metadata": {},
   "source": [
    "### Identify the most popular occupation for those who earn >50K in India."
   ]
  },
  {
   "cell_type": "code",
   "execution_count": null,
   "id": "2f302543",
   "metadata": {},
   "outputs": [],
   "source": [
    "top_IN_occupation = df.loc[(df['native-country'] == 'India') & (df['salary'] == '>50K'), 'occupation'].value_counts()"
   ]
  },
  {
   "cell_type": "markdown",
   "id": "067fb97b",
   "metadata": {},
   "source": [
    "### DO NOT MODIFY BELOW THIS LINE"
   ]
  },
  {
   "cell_type": "code",
   "execution_count": null,
   "id": "7f0b9a60",
   "metadata": {},
   "outputs": [],
   "source": [
    "if print_data:\n",
    "        print(\"Number of each race:\\n\", race_count) \n",
    "        print(\"Average age of men:\", average_age_men)\n",
    "        print(f\"Percentage with Bachelors degrees: {percentage_bachelors}%\")\n",
    "        print(f\"Percentage with higher education that earn >50K: {higher_education_rich}%\")\n",
    "        print(f\"Percentage without higher education that earn >50K: {lower_education_rich}%\")\n",
    "        print(f\"Min work time: {min_work_hours} hours/week\")\n",
    "        print(f\"Percentage of rich among those who work fewest hours: {rich_percentage}%\")\n",
    "        print(\"Country with highest percentage of rich:\", highest_earning_country)\n",
    "        print(f\"Highest percentage of rich people in country: {highest_earning_country_percentage}%\")\n",
    "        print(\"Top occupations in India:\", top_IN_occupation)"
   ]
  },
  {
   "cell_type": "code",
   "execution_count": null,
   "id": "3356dadc",
   "metadata": {},
   "outputs": [],
   "source": [
    " return {\n",
    "        'race_count': race_count,\n",
    "        'average_age_men': average_age_men,\n",
    "        'percentage_bachelors': percentage_bachelors,\n",
    "        'higher_education_rich': higher_education_rich,\n",
    "        'lower_education_rich': lower_education_rich,\n",
    "        'min_work_hours': min_work_hours,\n",
    "        'rich_percentage': rich_percentage,\n",
    "        'highest_earning_country': highest_earning_country,\n",
    "        'highest_earning_country_percentage':\n",
    "        highest_earning_country_percentage,\n",
    "        'top_IN_occupation': top_IN_occupation\n",
    "    }\n"
   ]
  },
  {
   "cell_type": "code",
   "execution_count": null,
   "id": "6d409718",
   "metadata": {},
   "outputs": [],
   "source": []
  }
 ],
 "metadata": {
  "kernelspec": {
   "display_name": "Python 3 (ipykernel)",
   "language": "python",
   "name": "python3"
  },
  "language_info": {
   "codemirror_mode": {
    "name": "ipython",
    "version": 3
   },
   "file_extension": ".py",
   "mimetype": "text/x-python",
   "name": "python",
   "nbconvert_exporter": "python",
   "pygments_lexer": "ipython3",
   "version": "3.9.7"
  }
 },
 "nbformat": 4,
 "nbformat_minor": 5
}
