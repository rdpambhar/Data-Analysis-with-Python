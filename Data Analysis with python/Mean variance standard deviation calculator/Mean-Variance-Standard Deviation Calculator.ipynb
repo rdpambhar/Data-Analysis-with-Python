{
 "cells": [
  {
   "cell_type": "code",
   "execution_count": 24,
   "id": "3bdd91e0",
   "metadata": {},
   "outputs": [
    {
     "ename": "IndentationError",
     "evalue": "unindent does not match any outer indentation level (<tokenize>, line 8)",
     "output_type": "error",
     "traceback": [
      "\u001b[1;36m  File \u001b[1;32m\"<tokenize>\"\u001b[1;36m, line \u001b[1;32m8\u001b[0m\n\u001b[1;33m    A = np.reshape(list(3, 3))\u001b[0m\n\u001b[1;37m    ^\u001b[0m\n\u001b[1;31mIndentationError\u001b[0m\u001b[1;31m:\u001b[0m unindent does not match any outer indentation level\n"
     ]
    }
   ],
   "source": [
    "import numpy as np\n",
    "from pprint import pprint\n",
    "\n",
    "\n",
    "def calculate(list):\n",
    "     if len(list) != 9:\n",
    "        raise ValueError(\"list must contain nine numbers.\")\n",
    "    A = np.reshape(list(3, 3))\n",
    "    calculations = {\n",
    "    \"mean\" : [A.mean(axis=0),A.mean(axis=1), A.mean()],\n",
    "    \"variance\" : [A.var(axis=0),A.var(axis=1), A.var()],\n",
    "    \"standrad_deviation\" : [A.std(axis=0),A.std(axis=1), A.std()],\n",
    "    \"max\" : [A.max(axis=0),A.max(axis=1), A.max()],\n",
    "    \"min\" : [A.min(axis=0),A.min(axis=1), A.min()],\n",
    "    \"sum\" : [A.sum(axis=0),A.sum(axis=1), A.sum()],\n",
    "    }\n",
    "\n",
    "\n",
    "\n",
    "    return calculations\n",
    "    print(calculate([i for i in range(0, 9)]))"
   ]
  },
  {
   "cell_type": "code",
   "execution_count": null,
   "id": "97291912",
   "metadata": {},
   "outputs": [],
   "source": []
  }
 ],
 "metadata": {
  "kernelspec": {
   "display_name": "Python 3 (ipykernel)",
   "language": "python",
   "name": "python3"
  },
  "language_info": {
   "codemirror_mode": {
    "name": "ipython",
    "version": 3
   },
   "file_extension": ".py",
   "mimetype": "text/x-python",
   "name": "python",
   "nbconvert_exporter": "python",
   "pygments_lexer": "ipython3",
   "version": "3.9.7"
  }
 },
 "nbformat": 4,
 "nbformat_minor": 5
}
